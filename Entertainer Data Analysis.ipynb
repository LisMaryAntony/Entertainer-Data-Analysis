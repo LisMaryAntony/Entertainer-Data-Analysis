{
 "cells": [
  {
   "cell_type": "markdown",
   "id": "98f26936-b37b-416c-8b75-d064426f0d4d",
   "metadata": {},
   "source": [
    "<span style=\"font-weight: bold; font-style: italic; color: red;\">Entertainer Data Analysis</span>\n"
   ]
  },
  {
   "cell_type": "markdown",
   "id": "cfb4743e-5b88-4871-acbe-c0d409126a11",
   "metadata": {},
   "source": [
    "# 1. Import Required Libraries"
   ]
  },
  {
   "cell_type": "code",
   "execution_count": 17,
   "id": "c458bcc8-426f-49d1-b52b-907914323e2c",
   "metadata": {},
   "outputs": [],
   "source": [
    "# Importing necessary libraries for the project\n",
    "import pandas as pd  # For data manipulation and analysis\n",
    "import numpy as np  # For numerical operations\n",
    "import matplotlib.pyplot as plt  # For basic visualizations\n",
    "import seaborn as sns  # For advanced visualizations\n",
    "from datetime import datetime \n",
    "\n",
    "# Configuring visualizations to appear inline\n",
    "%matplotlib inline"
   ]
  },
  {
   "cell_type": "markdown",
   "id": "66f96368-c828-4faf-be29-67131b6be9db",
   "metadata": {},
   "source": [
    "# 2. Load the Datasets"
   ]
  },
  {
   "cell_type": "code",
   "execution_count": 3,
   "id": "cf4514d8-3943-4e0b-87b3-0bed8d779a34",
   "metadata": {},
   "outputs": [],
   "source": [
    "# Loading the three datasets\n",
    "basic_info = pd.read_csv(\"Entertainer - Basic Info.csv\")\n",
    "breakthrough_info = pd.read_csv(\"Entertainer - Breakthrough Info.csv\")\n",
    "last_work_info = pd.read_csv(\"Entertainer - Last work Info.csv\")"
   ]
  },
  {
   "cell_type": "code",
   "execution_count": 5,
   "id": "33c38a50-ff29-4d1d-8a70-6a88a4d4b786",
   "metadata": {},
   "outputs": [
    {
     "name": "stdout",
     "output_type": "stream",
     "text": [
      "Basic Info Dataset:\n"
     ]
    },
    {
     "data": {
      "text/html": [
       "<div>\n",
       "<style scoped>\n",
       "    .dataframe tbody tr th:only-of-type {\n",
       "        vertical-align: middle;\n",
       "    }\n",
       "\n",
       "    .dataframe tbody tr th {\n",
       "        vertical-align: top;\n",
       "    }\n",
       "\n",
       "    .dataframe thead th {\n",
       "        text-align: right;\n",
       "    }\n",
       "</style>\n",
       "<table border=\"1\" class=\"dataframe\">\n",
       "  <thead>\n",
       "    <tr style=\"text-align: right;\">\n",
       "      <th></th>\n",
       "      <th>Entertainer</th>\n",
       "      <th>Gender (traditional)</th>\n",
       "      <th>Birth Year</th>\n",
       "    </tr>\n",
       "  </thead>\n",
       "  <tbody>\n",
       "    <tr>\n",
       "      <th>0</th>\n",
       "      <td>Adele</td>\n",
       "      <td>F</td>\n",
       "      <td>1988</td>\n",
       "    </tr>\n",
       "    <tr>\n",
       "      <th>1</th>\n",
       "      <td>Angelina Jolie</td>\n",
       "      <td>F</td>\n",
       "      <td>1975</td>\n",
       "    </tr>\n",
       "    <tr>\n",
       "      <th>2</th>\n",
       "      <td>Aretha Franklin</td>\n",
       "      <td>F</td>\n",
       "      <td>1942</td>\n",
       "    </tr>\n",
       "    <tr>\n",
       "      <th>3</th>\n",
       "      <td>Bette Davis</td>\n",
       "      <td>F</td>\n",
       "      <td>1908</td>\n",
       "    </tr>\n",
       "    <tr>\n",
       "      <th>4</th>\n",
       "      <td>Betty White</td>\n",
       "      <td>F</td>\n",
       "      <td>1922</td>\n",
       "    </tr>\n",
       "  </tbody>\n",
       "</table>\n",
       "</div>"
      ],
      "text/plain": [
       "       Entertainer Gender (traditional)  Birth Year\n",
       "0            Adele                    F        1988\n",
       "1   Angelina Jolie                    F        1975\n",
       "2  Aretha Franklin                    F        1942\n",
       "3      Bette Davis                    F        1908\n",
       "4      Betty White                    F        1922"
      ]
     },
     "execution_count": 5,
     "metadata": {},
     "output_type": "execute_result"
    }
   ],
   "source": [
    "# Displaying the first few rows of each dataset to understand the structure\n",
    "print(\"Basic Info Dataset:\")\n",
    "basic_info.head()"
   ]
  },
  {
   "cell_type": "code",
   "execution_count": 7,
   "id": "9b5d68e2-a89b-466a-863e-ed6bd2df2d3a",
   "metadata": {},
   "outputs": [
    {
     "name": "stdout",
     "output_type": "stream",
     "text": [
      "\n",
      "Breakthrough Info Dataset:\n"
     ]
    },
    {
     "data": {
      "text/html": [
       "<div>\n",
       "<style scoped>\n",
       "    .dataframe tbody tr th:only-of-type {\n",
       "        vertical-align: middle;\n",
       "    }\n",
       "\n",
       "    .dataframe tbody tr th {\n",
       "        vertical-align: top;\n",
       "    }\n",
       "\n",
       "    .dataframe thead th {\n",
       "        text-align: right;\n",
       "    }\n",
       "</style>\n",
       "<table border=\"1\" class=\"dataframe\">\n",
       "  <thead>\n",
       "    <tr style=\"text-align: right;\">\n",
       "      <th></th>\n",
       "      <th>Entertainer</th>\n",
       "      <th>Year of Breakthrough/#1 Hit/Award Nomination</th>\n",
       "      <th>Breakthrough Name</th>\n",
       "      <th>Year of First Oscar/Grammy/Emmy</th>\n",
       "    </tr>\n",
       "  </thead>\n",
       "  <tbody>\n",
       "    <tr>\n",
       "      <th>0</th>\n",
       "      <td>Adele</td>\n",
       "      <td>2008</td>\n",
       "      <td>19</td>\n",
       "      <td>2009.0</td>\n",
       "    </tr>\n",
       "    <tr>\n",
       "      <th>1</th>\n",
       "      <td>Angelina Jolie</td>\n",
       "      <td>1999</td>\n",
       "      <td>Girl, Interrupted</td>\n",
       "      <td>1999.0</td>\n",
       "    </tr>\n",
       "    <tr>\n",
       "      <th>2</th>\n",
       "      <td>Aretha Franklin</td>\n",
       "      <td>1967</td>\n",
       "      <td>I Never Loved a Man (The Way I Love You)</td>\n",
       "      <td>1968.0</td>\n",
       "    </tr>\n",
       "    <tr>\n",
       "      <th>3</th>\n",
       "      <td>Bette Davis</td>\n",
       "      <td>1934</td>\n",
       "      <td>Of Human Bondage</td>\n",
       "      <td>1935.0</td>\n",
       "    </tr>\n",
       "    <tr>\n",
       "      <th>4</th>\n",
       "      <td>Betty White</td>\n",
       "      <td>1952</td>\n",
       "      <td>Life with Elilzabeth</td>\n",
       "      <td>1976.0</td>\n",
       "    </tr>\n",
       "  </tbody>\n",
       "</table>\n",
       "</div>"
      ],
      "text/plain": [
       "       Entertainer  Year of Breakthrough/#1 Hit/Award Nomination  \\\n",
       "0            Adele                                          2008   \n",
       "1   Angelina Jolie                                          1999   \n",
       "2  Aretha Franklin                                          1967   \n",
       "3      Bette Davis                                          1934   \n",
       "4      Betty White                                          1952   \n",
       "\n",
       "                          Breakthrough Name  Year of First Oscar/Grammy/Emmy  \n",
       "0                                        19                           2009.0  \n",
       "1                         Girl, Interrupted                           1999.0  \n",
       "2  I Never Loved a Man (The Way I Love You)                           1968.0  \n",
       "3                          Of Human Bondage                           1935.0  \n",
       "4                      Life with Elilzabeth                           1976.0  "
      ]
     },
     "execution_count": 7,
     "metadata": {},
     "output_type": "execute_result"
    }
   ],
   "source": [
    "print(\"\\nBreakthrough Info Dataset:\")\n",
    "breakthrough_info.head()"
   ]
  },
  {
   "cell_type": "code",
   "execution_count": 9,
   "id": "6e3b29df-b7b3-4913-9b83-611d81cd9682",
   "metadata": {},
   "outputs": [
    {
     "name": "stdout",
     "output_type": "stream",
     "text": [
      "\n",
      "Last Work Info Dataset:\n"
     ]
    },
    {
     "data": {
      "text/html": [
       "<div>\n",
       "<style scoped>\n",
       "    .dataframe tbody tr th:only-of-type {\n",
       "        vertical-align: middle;\n",
       "    }\n",
       "\n",
       "    .dataframe tbody tr th {\n",
       "        vertical-align: top;\n",
       "    }\n",
       "\n",
       "    .dataframe thead th {\n",
       "        text-align: right;\n",
       "    }\n",
       "</style>\n",
       "<table border=\"1\" class=\"dataframe\">\n",
       "  <thead>\n",
       "    <tr style=\"text-align: right;\">\n",
       "      <th></th>\n",
       "      <th>Entertainer</th>\n",
       "      <th>Year of Last Major Work (arguable)</th>\n",
       "      <th>Year of Death</th>\n",
       "    </tr>\n",
       "  </thead>\n",
       "  <tbody>\n",
       "    <tr>\n",
       "      <th>0</th>\n",
       "      <td>Adele</td>\n",
       "      <td>2016</td>\n",
       "      <td>NaN</td>\n",
       "    </tr>\n",
       "    <tr>\n",
       "      <th>1</th>\n",
       "      <td>Angelina Jolie</td>\n",
       "      <td>2016</td>\n",
       "      <td>NaN</td>\n",
       "    </tr>\n",
       "    <tr>\n",
       "      <th>2</th>\n",
       "      <td>Aretha Franklin</td>\n",
       "      <td>2014</td>\n",
       "      <td>NaN</td>\n",
       "    </tr>\n",
       "    <tr>\n",
       "      <th>3</th>\n",
       "      <td>Bette Davis</td>\n",
       "      <td>1989</td>\n",
       "      <td>1989.0</td>\n",
       "    </tr>\n",
       "    <tr>\n",
       "      <th>4</th>\n",
       "      <td>Betty White</td>\n",
       "      <td>2016</td>\n",
       "      <td>NaN</td>\n",
       "    </tr>\n",
       "  </tbody>\n",
       "</table>\n",
       "</div>"
      ],
      "text/plain": [
       "       Entertainer  Year of Last Major Work (arguable)  Year of Death\n",
       "0            Adele                                2016            NaN\n",
       "1   Angelina Jolie                                2016            NaN\n",
       "2  Aretha Franklin                                2014            NaN\n",
       "3      Bette Davis                                1989         1989.0\n",
       "4      Betty White                                2016            NaN"
      ]
     },
     "execution_count": 9,
     "metadata": {},
     "output_type": "execute_result"
    }
   ],
   "source": [
    "print(\"\\nLast Work Info Dataset:\")\n",
    "last_work_info.head()"
   ]
  },
  {
   "cell_type": "markdown",
   "id": "f15ec96b-d603-436d-953b-826b042d3815",
   "metadata": {},
   "source": [
    "# 3. Inspect and Understand the Data"
   ]
  },
  {
   "cell_type": "code",
   "execution_count": 13,
   "id": "c4496b95-6c06-4c7c-81fe-14633fd696bb",
   "metadata": {},
   "outputs": [
    {
     "name": "stdout",
     "output_type": "stream",
     "text": [
      "Basic Info Structure:\n",
      "<class 'pandas.core.frame.DataFrame'>\n",
      "RangeIndex: 70 entries, 0 to 69\n",
      "Data columns (total 3 columns):\n",
      " #   Column                Non-Null Count  Dtype \n",
      "---  ------                --------------  ----- \n",
      " 0   Entertainer           70 non-null     object\n",
      " 1   Gender (traditional)  70 non-null     object\n",
      " 2   Birth Year            70 non-null     int64 \n",
      "dtypes: int64(1), object(2)\n",
      "memory usage: 1.8+ KB\n",
      "\n",
      "Breakthrough Info Structure:\n",
      "<class 'pandas.core.frame.DataFrame'>\n",
      "RangeIndex: 70 entries, 0 to 69\n",
      "Data columns (total 4 columns):\n",
      " #   Column                                        Non-Null Count  Dtype  \n",
      "---  ------                                        --------------  -----  \n",
      " 0   Entertainer                                   70 non-null     object \n",
      " 1   Year of Breakthrough/#1 Hit/Award Nomination  70 non-null     int64  \n",
      " 2   Breakthrough Name                             70 non-null     object \n",
      " 3   Year of First Oscar/Grammy/Emmy               64 non-null     float64\n",
      "dtypes: float64(1), int64(1), object(2)\n",
      "memory usage: 2.3+ KB\n",
      "\n",
      "Last Work Info Structure:\n",
      "<class 'pandas.core.frame.DataFrame'>\n",
      "RangeIndex: 70 entries, 0 to 69\n",
      "Data columns (total 3 columns):\n",
      " #   Column                              Non-Null Count  Dtype  \n",
      "---  ------                              --------------  -----  \n",
      " 0   Entertainer                         70 non-null     object \n",
      " 1   Year of Last Major Work (arguable)  70 non-null     int64  \n",
      " 2   Year of Death                       30 non-null     float64\n",
      "dtypes: float64(1), int64(1), object(1)\n",
      "memory usage: 1.8+ KB\n"
     ]
    }
   ],
   "source": [
    "# Checking the basic structure of each dataset\n",
    "print(\"Basic Info Structure:\")\n",
    "basic_info.info()\n",
    "\n",
    "print(\"\\nBreakthrough Info Structure:\")\n",
    "breakthrough_info.info()\n",
    "\n",
    "print(\"\\nLast Work Info Structure:\")\n",
    "last_work_info.info()"
   ]
  },
  {
   "cell_type": "code",
   "execution_count": 15,
   "id": "6d62db8f-27b4-463a-a7ab-85a6cefe876b",
   "metadata": {},
   "outputs": [
    {
     "name": "stdout",
     "output_type": "stream",
     "text": [
      "\n",
      "Missing Values in Basic Info:\n",
      "Entertainer             0\n",
      "Gender (traditional)    0\n",
      "Birth Year              0\n",
      "dtype: int64\n",
      "\n",
      "Missing Values in Breakthrough Info:\n",
      "Entertainer                                     0\n",
      "Year of Breakthrough/#1 Hit/Award Nomination    0\n",
      "Breakthrough Name                               0\n",
      "Year of First Oscar/Grammy/Emmy                 6\n",
      "dtype: int64\n",
      "\n",
      "Missing Values in Last Work Info:\n",
      "Entertainer                            0\n",
      "Year of Last Major Work (arguable)     0\n",
      "Year of Death                         40\n",
      "dtype: int64\n"
     ]
    }
   ],
   "source": [
    "# Checking for missing values in each dataset\n",
    "print(\"\\nMissing Values in Basic Info:\")\n",
    "print(basic_info.isnull().sum())\n",
    "\n",
    "print(\"\\nMissing Values in Breakthrough Info:\")\n",
    "print(breakthrough_info.isnull().sum())\n",
    "\n",
    "print(\"\\nMissing Values in Last Work Info:\")\n",
    "print(last_work_info.isnull().sum())"
   ]
  },
  {
   "cell_type": "code",
   "execution_count": 25,
   "id": "18bd6a99-c4dd-4f2d-af63-c899d4763e34",
   "metadata": {},
   "outputs": [
    {
     "name": "stdout",
     "output_type": "stream",
     "text": [
      "\n",
      "Duplicate Values in Basic Info:\n",
      "0\n",
      "\n",
      "Duplicate Values in Breakthrough Info:\n",
      "0\n",
      "\n",
      "Duplicate Values in Last Work Info:\n",
      "0\n"
     ]
    }
   ],
   "source": [
    "# Checking for duplicate values in each dataset\n",
    "print(\"\\nDuplicate Values in Basic Info:\")\n",
    "print(basic_info.duplicated().sum())\n",
    "\n",
    "print(\"\\nDuplicate Values in Breakthrough Info:\")\n",
    "print(breakthrough_info.duplicated().sum())\n",
    "\n",
    "print(\"\\nDuplicate Values in Last Work Info:\")\n",
    "print(last_work_info.duplicated().sum())"
   ]
  },
  {
   "cell_type": "markdown",
   "id": "79aa8097-c4e5-4057-a948-1f7b7d690b1c",
   "metadata": {},
   "source": [
    "# 4. Data Cleaning"
   ]
  },
  {
   "cell_type": "code",
   "execution_count": 27,
   "id": "fa36df59-3e33-4a03-b568-d98f0fbaa910",
   "metadata": {},
   "outputs": [],
   "source": [
    "# Dropping duplicates in all datasets\n",
    "basic_info.drop_duplicates(inplace=True)\n",
    "breakthrough_info.drop_duplicates(inplace=True)\n",
    "last_work_info.drop_duplicates(inplace=True)"
   ]
  },
  {
   "cell_type": "code",
   "execution_count": 29,
   "id": "63db0455-9f86-4dc2-8fb5-81d22affe54b",
   "metadata": {},
   "outputs": [],
   "source": [
    "# Filling missing values if necessary \n",
    "breakthrough_info['Year of First Oscar/Grammy/Emmy'] = breakthrough_info['Year of First Oscar/Grammy/Emmy'].fillna(0000.0)\n",
    "last_work_info['Year of Death'] = last_work_info['Year of Death'].fillna(0000.0)"
   ]
  },
  {
   "cell_type": "code",
   "execution_count": 31,
   "id": "57d1b6f8-7c57-482a-98be-2b567d657d36",
   "metadata": {},
   "outputs": [],
   "source": [
    "# Merging the datasets using 'Name' as a common column\n",
    "merged_data = pd.merge(basic_info, breakthrough_info, on='Entertainer', how='inner')\n",
    "merged_data = pd.merge(merged_data, last_work_info, on='Entertainer', how='inner')"
   ]
  },
  {
   "cell_type": "code",
   "execution_count": 33,
   "id": "a2570b13-d88b-4ed0-a09a-d2b3f6503326",
   "metadata": {},
   "outputs": [
    {
     "name": "stdout",
     "output_type": "stream",
     "text": [
      "Merged Data Structure:\n",
      "<class 'pandas.core.frame.DataFrame'>\n",
      "RangeIndex: 70 entries, 0 to 69\n",
      "Data columns (total 8 columns):\n",
      " #   Column                                        Non-Null Count  Dtype  \n",
      "---  ------                                        --------------  -----  \n",
      " 0   Entertainer                                   70 non-null     object \n",
      " 1   Gender (traditional)                          70 non-null     object \n",
      " 2   Birth Year                                    70 non-null     int64  \n",
      " 3   Year of Breakthrough/#1 Hit/Award Nomination  70 non-null     int64  \n",
      " 4   Breakthrough Name                             70 non-null     object \n",
      " 5   Year of First Oscar/Grammy/Emmy               70 non-null     float64\n",
      " 6   Year of Last Major Work (arguable)            70 non-null     int64  \n",
      " 7   Year of Death                                 70 non-null     float64\n",
      "dtypes: float64(2), int64(3), object(3)\n",
      "memory usage: 4.5+ KB\n",
      "None\n"
     ]
    }
   ],
   "source": [
    "# Displaying the merged dataset structure\n",
    "print(\"Merged Data Structure:\")\n",
    "print(merged_data.info())"
   ]
  },
  {
   "cell_type": "code",
   "execution_count": 35,
   "id": "f87dbe07-95fb-4b16-8d06-abe0949af3e2",
   "metadata": {},
   "outputs": [],
   "source": [
    "# Saving the cleaned dataset for Power BI\n",
    "merged_data.to_csv(\"cleaned_entertainer_data.csv\", index=False)"
   ]
  },
  {
   "cell_type": "code",
   "execution_count": 37,
   "id": "c77c56c9-19fb-474b-9376-2841b71414f0",
   "metadata": {},
   "outputs": [
    {
     "name": "stdout",
     "output_type": "stream",
     "text": [
      "\n",
      "Cleaned Entertainer Data:\n"
     ]
    },
    {
     "data": {
      "text/html": [
       "<div>\n",
       "<style scoped>\n",
       "    .dataframe tbody tr th:only-of-type {\n",
       "        vertical-align: middle;\n",
       "    }\n",
       "\n",
       "    .dataframe tbody tr th {\n",
       "        vertical-align: top;\n",
       "    }\n",
       "\n",
       "    .dataframe thead th {\n",
       "        text-align: right;\n",
       "    }\n",
       "</style>\n",
       "<table border=\"1\" class=\"dataframe\">\n",
       "  <thead>\n",
       "    <tr style=\"text-align: right;\">\n",
       "      <th></th>\n",
       "      <th>Entertainer</th>\n",
       "      <th>Gender (traditional)</th>\n",
       "      <th>Birth Year</th>\n",
       "      <th>Year of Breakthrough/#1 Hit/Award Nomination</th>\n",
       "      <th>Breakthrough Name</th>\n",
       "      <th>Year of First Oscar/Grammy/Emmy</th>\n",
       "      <th>Year of Last Major Work (arguable)</th>\n",
       "      <th>Year of Death</th>\n",
       "    </tr>\n",
       "  </thead>\n",
       "  <tbody>\n",
       "    <tr>\n",
       "      <th>0</th>\n",
       "      <td>Adele</td>\n",
       "      <td>F</td>\n",
       "      <td>1988</td>\n",
       "      <td>2008</td>\n",
       "      <td>19</td>\n",
       "      <td>2009.0</td>\n",
       "      <td>2016</td>\n",
       "      <td>0.0</td>\n",
       "    </tr>\n",
       "    <tr>\n",
       "      <th>1</th>\n",
       "      <td>Angelina Jolie</td>\n",
       "      <td>F</td>\n",
       "      <td>1975</td>\n",
       "      <td>1999</td>\n",
       "      <td>Girl, Interrupted</td>\n",
       "      <td>1999.0</td>\n",
       "      <td>2016</td>\n",
       "      <td>0.0</td>\n",
       "    </tr>\n",
       "    <tr>\n",
       "      <th>2</th>\n",
       "      <td>Aretha Franklin</td>\n",
       "      <td>F</td>\n",
       "      <td>1942</td>\n",
       "      <td>1967</td>\n",
       "      <td>I Never Loved a Man (The Way I Love You)</td>\n",
       "      <td>1968.0</td>\n",
       "      <td>2014</td>\n",
       "      <td>0.0</td>\n",
       "    </tr>\n",
       "    <tr>\n",
       "      <th>3</th>\n",
       "      <td>Bette Davis</td>\n",
       "      <td>F</td>\n",
       "      <td>1908</td>\n",
       "      <td>1934</td>\n",
       "      <td>Of Human Bondage</td>\n",
       "      <td>1935.0</td>\n",
       "      <td>1989</td>\n",
       "      <td>1989.0</td>\n",
       "    </tr>\n",
       "    <tr>\n",
       "      <th>4</th>\n",
       "      <td>Betty White</td>\n",
       "      <td>F</td>\n",
       "      <td>1922</td>\n",
       "      <td>1952</td>\n",
       "      <td>Life with Elilzabeth</td>\n",
       "      <td>1976.0</td>\n",
       "      <td>2016</td>\n",
       "      <td>0.0</td>\n",
       "    </tr>\n",
       "  </tbody>\n",
       "</table>\n",
       "</div>"
      ],
      "text/plain": [
       "       Entertainer Gender (traditional)  Birth Year  \\\n",
       "0            Adele                    F        1988   \n",
       "1   Angelina Jolie                    F        1975   \n",
       "2  Aretha Franklin                    F        1942   \n",
       "3      Bette Davis                    F        1908   \n",
       "4      Betty White                    F        1922   \n",
       "\n",
       "   Year of Breakthrough/#1 Hit/Award Nomination  \\\n",
       "0                                          2008   \n",
       "1                                          1999   \n",
       "2                                          1967   \n",
       "3                                          1934   \n",
       "4                                          1952   \n",
       "\n",
       "                          Breakthrough Name  Year of First Oscar/Grammy/Emmy  \\\n",
       "0                                        19                           2009.0   \n",
       "1                         Girl, Interrupted                           1999.0   \n",
       "2  I Never Loved a Man (The Way I Love You)                           1968.0   \n",
       "3                          Of Human Bondage                           1935.0   \n",
       "4                      Life with Elilzabeth                           1976.0   \n",
       "\n",
       "   Year of Last Major Work (arguable)  Year of Death  \n",
       "0                                2016            0.0  \n",
       "1                                2016            0.0  \n",
       "2                                2014            0.0  \n",
       "3                                1989         1989.0  \n",
       "4                                2016            0.0  "
      ]
     },
     "execution_count": 37,
     "metadata": {},
     "output_type": "execute_result"
    }
   ],
   "source": [
    "cleaned_entertainer_data = pd.read_csv(\"cleaned_entertainer_data.csv\")\n",
    "print(\"\\nCleaned Entertainer Data:\")\n",
    "cleaned_entertainer_data.head()"
   ]
  },
  {
   "cell_type": "code",
   "execution_count": 39,
   "id": "5a7b3d3c-eccf-449c-b32e-b6dfa2dc5f05",
   "metadata": {},
   "outputs": [],
   "source": [
    "# Calculate 'Years Active' by subtracting 'Birth Year' from 'Year of Death' or current year\n",
    "current_year = datetime.now().year\n",
    "\n",
    "cleaned_entertainer_data['Years Active'] = cleaned_entertainer_data.apply(\n",
    "    lambda x: current_year - x['Birth Year'] if x['Year of Death'] == 0 else x['Year of Death'] - x['Birth Year'],\n",
    "    axis=1\n",
    ")"
   ]
  },
  {
   "cell_type": "code",
   "execution_count": 105,
   "id": "85a298b4-8228-44fa-8d8b-5d1e71169511",
   "metadata": {},
   "outputs": [],
   "source": [
    "# Saving the cleaned dataset for Power BI\n",
    "cleaned_entertainer_data.to_csv(\"cleaned_entertainer_data.csv\", index=False)"
   ]
  },
  {
   "cell_type": "code",
   "execution_count": 5,
   "id": "54526d8c-7aba-4f78-9969-c6e4ff87c301",
   "metadata": {},
   "outputs": [
    {
     "name": "stdout",
     "output_type": "stream",
     "text": [
      "\n",
      "Cleaned Entertainer Data:\n"
     ]
    },
    {
     "data": {
      "text/html": [
       "<div>\n",
       "<style scoped>\n",
       "    .dataframe tbody tr th:only-of-type {\n",
       "        vertical-align: middle;\n",
       "    }\n",
       "\n",
       "    .dataframe tbody tr th {\n",
       "        vertical-align: top;\n",
       "    }\n",
       "\n",
       "    .dataframe thead th {\n",
       "        text-align: right;\n",
       "    }\n",
       "</style>\n",
       "<table border=\"1\" class=\"dataframe\">\n",
       "  <thead>\n",
       "    <tr style=\"text-align: right;\">\n",
       "      <th></th>\n",
       "      <th>Entertainer</th>\n",
       "      <th>Gender (traditional)</th>\n",
       "      <th>Birth Year</th>\n",
       "      <th>Year of Breakthrough/#1 Hit/Award Nomination</th>\n",
       "      <th>Breakthrough Name</th>\n",
       "      <th>Year of First Oscar/Grammy/Emmy</th>\n",
       "      <th>Year of Last Major Work (arguable)</th>\n",
       "      <th>Year of Death</th>\n",
       "      <th>Years Active</th>\n",
       "      <th>Age at Death</th>\n",
       "    </tr>\n",
       "  </thead>\n",
       "  <tbody>\n",
       "    <tr>\n",
       "      <th>0</th>\n",
       "      <td>Adele</td>\n",
       "      <td>F</td>\n",
       "      <td>1988</td>\n",
       "      <td>2008</td>\n",
       "      <td>19</td>\n",
       "      <td>2009.0</td>\n",
       "      <td>2016</td>\n",
       "      <td>0.0</td>\n",
       "      <td>36.0</td>\n",
       "      <td>0.0</td>\n",
       "    </tr>\n",
       "    <tr>\n",
       "      <th>1</th>\n",
       "      <td>Angelina Jolie</td>\n",
       "      <td>F</td>\n",
       "      <td>1975</td>\n",
       "      <td>1999</td>\n",
       "      <td>Girl, Interrupted</td>\n",
       "      <td>1999.0</td>\n",
       "      <td>2016</td>\n",
       "      <td>0.0</td>\n",
       "      <td>49.0</td>\n",
       "      <td>0.0</td>\n",
       "    </tr>\n",
       "    <tr>\n",
       "      <th>2</th>\n",
       "      <td>Aretha Franklin</td>\n",
       "      <td>F</td>\n",
       "      <td>1942</td>\n",
       "      <td>1967</td>\n",
       "      <td>I Never Loved a Man (The Way I Love You)</td>\n",
       "      <td>1968.0</td>\n",
       "      <td>2014</td>\n",
       "      <td>0.0</td>\n",
       "      <td>82.0</td>\n",
       "      <td>0.0</td>\n",
       "    </tr>\n",
       "    <tr>\n",
       "      <th>3</th>\n",
       "      <td>Bette Davis</td>\n",
       "      <td>F</td>\n",
       "      <td>1908</td>\n",
       "      <td>1934</td>\n",
       "      <td>Of Human Bondage</td>\n",
       "      <td>1935.0</td>\n",
       "      <td>1989</td>\n",
       "      <td>1989.0</td>\n",
       "      <td>81.0</td>\n",
       "      <td>81.0</td>\n",
       "    </tr>\n",
       "    <tr>\n",
       "      <th>4</th>\n",
       "      <td>Betty White</td>\n",
       "      <td>F</td>\n",
       "      <td>1922</td>\n",
       "      <td>1952</td>\n",
       "      <td>Life with Elilzabeth</td>\n",
       "      <td>1976.0</td>\n",
       "      <td>2016</td>\n",
       "      <td>0.0</td>\n",
       "      <td>102.0</td>\n",
       "      <td>0.0</td>\n",
       "    </tr>\n",
       "  </tbody>\n",
       "</table>\n",
       "</div>"
      ],
      "text/plain": [
       "       Entertainer Gender (traditional)  Birth Year  \\\n",
       "0            Adele                    F        1988   \n",
       "1   Angelina Jolie                    F        1975   \n",
       "2  Aretha Franklin                    F        1942   \n",
       "3      Bette Davis                    F        1908   \n",
       "4      Betty White                    F        1922   \n",
       "\n",
       "   Year of Breakthrough/#1 Hit/Award Nomination  \\\n",
       "0                                          2008   \n",
       "1                                          1999   \n",
       "2                                          1967   \n",
       "3                                          1934   \n",
       "4                                          1952   \n",
       "\n",
       "                          Breakthrough Name  Year of First Oscar/Grammy/Emmy  \\\n",
       "0                                        19                           2009.0   \n",
       "1                         Girl, Interrupted                           1999.0   \n",
       "2  I Never Loved a Man (The Way I Love You)                           1968.0   \n",
       "3                          Of Human Bondage                           1935.0   \n",
       "4                      Life with Elilzabeth                           1976.0   \n",
       "\n",
       "   Year of Last Major Work (arguable)  Year of Death  Years Active  \\\n",
       "0                                2016            0.0          36.0   \n",
       "1                                2016            0.0          49.0   \n",
       "2                                2014            0.0          82.0   \n",
       "3                                1989         1989.0          81.0   \n",
       "4                                2016            0.0         102.0   \n",
       "\n",
       "   Age at Death  \n",
       "0           0.0  \n",
       "1           0.0  \n",
       "2           0.0  \n",
       "3          81.0  \n",
       "4           0.0  "
      ]
     },
     "execution_count": 5,
     "metadata": {},
     "output_type": "execute_result"
    }
   ],
   "source": [
    "cleaned_entertainer_data = pd.read_csv(\"cleaned_entertainer_data.csv\")\n",
    "print(\"\\nCleaned Entertainer Data:\")\n",
    "cleaned_entertainer_data.head()"
   ]
  },
  {
   "cell_type": "markdown",
   "id": "f635ebf6-07d2-45f2-846d-be729f6c5934",
   "metadata": {},
   "source": [
    "# 5. Exploratory Data Analysis (EDA)"
   ]
  },
  {
   "cell_type": "markdown",
   "id": "60ac8d25-c8fa-424b-aeb7-296f122909d2",
   "metadata": {},
   "source": [
    "1. Number of Entertainers by Gender"
   ]
  },
  {
   "cell_type": "code",
   "execution_count": 31,
   "id": "92f76522-2c87-48ca-ab9e-19b654b21e25",
   "metadata": {},
   "outputs": [
    {
     "name": "stdout",
     "output_type": "stream",
     "text": [
      "Number of Entertainers by Gender:\n",
      "Gender (traditional)\n",
      "M    50\n",
      "F    20\n",
      "Name: count, dtype: int64\n"
     ]
    }
   ],
   "source": [
    "# Count of entertainers by gender\n",
    "gender_count = cleaned_entertainer_data['Gender (traditional)'].value_counts()\n",
    "print(\"Number of Entertainers by Gender:\")\n",
    "print(gender_count)"
   ]
  },
  {
   "cell_type": "markdown",
   "id": "e4efb025-2447-4680-bbd8-8201e729e040",
   "metadata": {},
   "source": [
    "2. Breakthrough Year Analysis"
   ]
  },
  {
   "cell_type": "code",
   "execution_count": 111,
   "id": "064bb935-d370-4043-85e1-11ccf45eb501",
   "metadata": {},
   "outputs": [
    {
     "name": "stdout",
     "output_type": "stream",
     "text": [
      "Number of Breakthroughs by Year:\n",
      "Year of Breakthrough/#1 Hit/Award Nomination\n",
      "1915    1\n",
      "1926    1\n",
      "1928    1\n",
      "1930    1\n",
      "1931    1\n",
      "1933    2\n",
      "1934    3\n",
      "1936    1\n",
      "1938    2\n",
      "1939    1\n",
      "1940    1\n",
      "1944    1\n",
      "1948    1\n",
      "1949    1\n",
      "1951    2\n",
      "1952    2\n",
      "1953    1\n",
      "1955    1\n",
      "1956    1\n",
      "1957    1\n",
      "1958    1\n",
      "1959    1\n",
      "1961    2\n",
      "1962    2\n",
      "1963    3\n",
      "1964    1\n",
      "1965    1\n",
      "1967    4\n",
      "1968    1\n",
      "1969    2\n",
      "1972    2\n",
      "1975    1\n",
      "1977    1\n",
      "1978    1\n",
      "1979    1\n",
      "1980    1\n",
      "1982    1\n",
      "1984    3\n",
      "1985    1\n",
      "1987    1\n",
      "1988    1\n",
      "1989    2\n",
      "1990    2\n",
      "1992    1\n",
      "1994    1\n",
      "1997    1\n",
      "1999    1\n",
      "2000    1\n",
      "2001    1\n",
      "2008    2\n",
      "Name: count, dtype: int64\n"
     ]
    }
   ],
   "source": [
    "# Count of entertainers by year of breakthrough\n",
    "breakthrough_by_year = cleaned_entertainer_data['Year of Breakthrough/#1 Hit/Award Nomination'].value_counts().sort_index()\n",
    "print(\"Number of Breakthroughs by Year:\")\n",
    "print(breakthrough_by_year)\n"
   ]
  },
  {
   "cell_type": "markdown",
   "id": "e541c54d-4cd9-4ee3-90c1-eca85a5a2da0",
   "metadata": {},
   "source": [
    "3. Average Age at Death (only for deceased entertainers)"
   ]
  },
  {
   "cell_type": "code",
   "execution_count": 18,
   "id": "0b6f7d07-1c10-440c-9dcb-7db6b435a381",
   "metadata": {},
   "outputs": [
    {
     "name": "stdout",
     "output_type": "stream",
     "text": [
      "Average Age at Death: 70.7\n"
     ]
    }
   ],
   "source": [
    "# Calculate Age at Death\n",
    "cleaned_entertainer_data['Age at Death'] = np.where(cleaned_entertainer_data['Year of Death'] > 0, cleaned_entertainer_data['Year of Death'] - cleaned_entertainer_data['Birth Year'], 0)\n",
    "\n",
    "# Filter for deceased entertainers\n",
    "deceased_data = cleaned_entertainer_data[cleaned_entertainer_data['Year of Death'] > 0]\n",
    "\n",
    "# Calculate average age at death\n",
    "average_age_at_death = deceased_data['Age at Death'].mean()\n",
    "print(f\"Average Age at Death: {average_age_at_death}\")"
   ]
  },
  {
   "cell_type": "markdown",
   "id": "b4c0785d-b53b-4482-a7b0-e1c932050c9d",
   "metadata": {},
   "source": [
    "4. Trends in Breakthroughs by Gender"
   ]
  },
  {
   "cell_type": "code",
   "execution_count": 21,
   "id": "3597496a-531a-4075-a83a-b5b96ad68f6e",
   "metadata": {},
   "outputs": [
    {
     "name": "stdout",
     "output_type": "stream",
     "text": [
      "Breakthroughs by Gender and Year:\n",
      "Year of Breakthrough/#1 Hit/Award Nomination  1915  1926  1928  1930  1931  \\\n",
      "Gender (traditional)                                                         \n",
      "F                                                0     1     1     1     0   \n",
      "M                                                1     0     0     0     1   \n",
      "\n",
      "Year of Breakthrough/#1 Hit/Award Nomination  1933  1934  1936  1938  1939  \\\n",
      "Gender (traditional)                                                         \n",
      "F                                                1     2     0     0     0   \n",
      "M                                                1     1     1     2     1   \n",
      "\n",
      "Year of Breakthrough/#1 Hit/Award Nomination  ...  1988  1989  1990  1992  \\\n",
      "Gender (traditional)                          ...                           \n",
      "F                                             ...     0     0     1     0   \n",
      "M                                             ...     1     2     1     1   \n",
      "\n",
      "Year of Breakthrough/#1 Hit/Award Nomination  1994  1997  1999  2000  2001  \\\n",
      "Gender (traditional)                                                         \n",
      "F                                                1     0     1     0     0   \n",
      "M                                                0     1     0     1     1   \n",
      "\n",
      "Year of Breakthrough/#1 Hit/Award Nomination  2008  \n",
      "Gender (traditional)                                \n",
      "F                                                2  \n",
      "M                                                0  \n",
      "\n",
      "[2 rows x 50 columns]\n"
     ]
    }
   ],
   "source": [
    "# Group by gender and year of breakthrough, and count the number of entertainers\n",
    "breakthrough_by_gender = cleaned_entertainer_data.groupby(['Gender (traditional)', 'Year of Breakthrough/#1 Hit/Award Nomination']).size().unstack(fill_value=0)\n",
    "print(\"Breakthroughs by Gender and Year:\")\n",
    "print(breakthrough_by_gender)"
   ]
  },
  {
   "cell_type": "markdown",
   "id": "2c7d4ff1-8f30-4a28-9a39-9ba04249cdbb",
   "metadata": {},
   "source": [
    "# Visualizations using Python"
   ]
  },
  {
   "cell_type": "markdown",
   "id": "9be09cc4-c734-43e8-b256-f7dacb95b663",
   "metadata": {},
   "source": [
    "1. Trends in Years Active"
   ]
  },
  {
   "cell_type": "code",
   "execution_count": 121,
   "id": "7eaed95f-3f07-4a60-92b0-0b092c93cea8",
   "metadata": {},
   "outputs": [
    {
     "data": {
      "image/png": "[encoded data removed]",
      "text/plain": [
       "<Figure size 1000x600 with 1 Axes>"
      ]
     },
     "metadata": {},
     "output_type": "display_data"
    }
   ],
   "source": [
    "# Plot the distribution of 'Years Active' to see how long entertainers typically stay active\n",
    "\n",
    "plt.figure(figsize=(10, 6))\n",
    "plt.hist(cleaned_entertainer_data['Years Active'], bins=15, color='skyblue', edgecolor='black')\n",
    "plt.title(\"Distribution of Years Active\")\n",
    "plt.xlabel(\"Years Active\")\n",
    "plt.ylabel(\"Number of Entertainers\")\n",
    "plt.grid(axis='y')\n",
    "plt.show()"
   ]
  },
  {
   "cell_type": "markdown",
   "id": "8658d434-ff3c-41d8-9791-d9b0c0e23092",
   "metadata": {},
   "source": [
    "2. Bar Chart for Gender Representation"
   ]
  },
  {
   "cell_type": "code",
   "execution_count": 33,
   "id": "dee8e8ef-8288-436a-9ebc-44a4a0aab43b",
   "metadata": {},
   "outputs": [
    {
     "data": {
      "image/png": "[encoded data removed]",
      "text/plain": [
       "<Figure size 640x480 with 1 Axes>"
      ]
     },
     "metadata": {},
     "output_type": "display_data"
    }
   ],
   "source": [
    "# Bar chart for gender distribution\n",
    "gender_count.plot(kind='bar', color='lightcoral')\n",
    "plt.title(\"Entertainer Gender Distribution\")\n",
    "plt.xlabel(\"Gender\")\n",
    "plt.ylabel(\"Number of Entertainers\")\n",
    "plt.show()\n"
   ]
  },
  {
   "cell_type": "markdown",
   "id": "ac676f09-ca16-46e9-a038-066b227de711",
   "metadata": {},
   "source": [
    "3. Line Chart for Trends in Breakthroughs by Year"
   ]
  },
  {
   "cell_type": "code",
   "execution_count": 91,
   "id": "cd9bd086-7e27-4c12-869a-67214ecc91a2",
   "metadata": {},
   "outputs": [
    {
     "data": {
      "image/png": "[encoded data removed]",
      "text/plain": [
       "<Figure size 640x480 with 1 Axes>"
      ]
     },
     "metadata": {},
     "output_type": "display_data"
    }
   ],
   "source": [
    "# Line chart for trends in breakthroughs by year\n",
    "breakthrough_by_year.plot(kind='line', marker='o', color='purple')\n",
    "plt.title(\"Trends in Breakthroughs by Year\")\n",
    "plt.xlabel(\"Year\")\n",
    "plt.ylabel(\"Number of Breakthroughs\")\n",
    "plt.grid(True)\n",
    "plt.show()\n"
   ]
  },
  {
   "cell_type": "markdown",
   "id": "6fb4d077-a43e-4462-902e-5c4a3f919612",
   "metadata": {},
   "source": [
    "4. Pie Chart for Gender Representation"
   ]
  },
  {
   "cell_type": "code",
   "execution_count": 95,
   "id": "398f1353-36a2-4e40-8805-c359380c21d1",
   "metadata": {},
   "outputs": [
    {
     "data": {
      "image/png": "[encoded data removed]",
      "text/plain": [
       "<Figure size 640x480 with 1 Axes>"
      ]
     },
     "metadata": {},
     "output_type": "display_data"
    }
   ],
   "source": [
    "# Pie chart for gender distribution\n",
    "gender_count.plot(kind='pie', autopct='%1.1f%%', startangle=90, colors=['lightblue', 'pink'])\n",
    "plt.title(\"Gender Distribution of Entertainers\")\n",
    "plt.ylabel('')  # Remove the y-label\n",
    "plt.show()\n"
   ]
  },
  {
   "cell_type": "code",
   "execution_count": 38,
   "id": "adb9abb5-e99a-47f7-845b-a44b73a64707",
   "metadata": {},
   "outputs": [],
   "source": [
    "# Save cleaned data to CSV for further use or Power BI\n",
    "cleaned_entertainer_data.to_csv(\"cleaned_entertainer_data.csv\", index=False)"
   ]
  },
  {
   "cell_type": "code",
   "execution_count": 7,
   "id": "28fd3f28-cd38-4d94-a9c9-9e54195bcfe9",
   "metadata": {},
   "outputs": [
    {
     "name": "stdout",
     "output_type": "stream",
     "text": [
      "<class 'pandas.core.frame.DataFrame'>\n",
      "RangeIndex: 70 entries, 0 to 69\n",
      "Data columns (total 10 columns):\n",
      " #   Column                                        Non-Null Count  Dtype  \n",
      "---  ------                                        --------------  -----  \n",
      " 0   Entertainer                                   70 non-null     object \n",
      " 1   Gender (traditional)                          70 non-null     object \n",
      " 2   Birth Year                                    70 non-null     int64  \n",
      " 3   Year of Breakthrough/#1 Hit/Award Nomination  70 non-null     int64  \n",
      " 4   Breakthrough Name                             70 non-null     object \n",
      " 5   Year of First Oscar/Grammy/Emmy               70 non-null     float64\n",
      " 6   Year of Last Major Work (arguable)            70 non-null     int64  \n",
      " 7   Year of Death                                 70 non-null     float64\n",
      " 8   Years Active                                  70 non-null     float64\n",
      " 9   Age at Death                                  70 non-null     float64\n",
      "dtypes: float64(4), int64(3), object(3)\n",
      "memory usage: 5.6+ KB\n"
     ]
    }
   ],
   "source": [
    "cleaned_entertainer_data.info()"
   ]
  },
  {
   "cell_type": "code",
   "execution_count": 11,
   "id": "45d3744a-5f4a-4664-9ea3-32f6d59ed3b0",
   "metadata": {},
   "outputs": [
    {
     "data": {
      "image/png": "[encoded data removed]",
      "text/plain": [
       "<Figure size 1000x600 with 1 Axes>"
      ]
     },
     "metadata": {},
     "output_type": "display_data"
    }
   ],
   "source": [
    "# Visualize the data distribution\n",
    "plt.figure(figsize=(10, 6))\n",
    "sns.histplot(cleaned_entertainer_data['Years Active'], kde=True, color='skyblue')\n",
    "plt.title(\"Distribution of Years Active\")\n",
    "plt.xlabel(\"Years Active\")\n",
    "plt.ylabel(\"Frequency\")\n",
    "plt.show()"
   ]
  },
  {
   "cell_type": "code",
   "execution_count": 21,
   "id": "3ce52d19-a8e9-4c22-a9a4-ecd3c4cf4f08",
   "metadata": {},
   "outputs": [
    {
     "data": {
      "image/png": "[encoded data removed]",
      "text/plain": [
       "<Figure size 1000x600 with 1 Axes>"
      ]
     },
     "metadata": {},
     "output_type": "display_data"
    }
   ],
   "source": [
    "# Age at Death analysis\n",
    "plt.figure(figsize=(10, 6))\n",
    "sns.histplot(cleaned_entertainer_data['Age at Death'], kde=True, color='salmon')\n",
    "plt.title(\"Distribution of Age at Death\")\n",
    "plt.xlabel(\"Age at Death\")\n",
    "plt.ylabel(\"Frequency\")\n",
    "plt.show()"
   ]
  },
  {
   "cell_type": "code",
   "execution_count": 23,
   "id": "f18d370e-3d4a-45c0-a71a-323ddef48e4a",
   "metadata": {},
   "outputs": [
    {
     "data": {
      "image/png": "[encoded data removed]",
      "text/plain": [
       "<Figure size 1000x600 with 1 Axes>"
      ]
     },
     "metadata": {},
     "output_type": "display_data"
    }
   ],
   "source": [
    "# Additional Analysis: Correlation between 'Year of Breakthrough' and 'Years Active'\n",
    "plt.figure(figsize=(10, 6))\n",
    "sns.scatterplot(data=cleaned_entertainer_data, x='Year of Breakthrough/#1 Hit/Award Nomination', y='Years Active', color='green')\n",
    "plt.title(\"Breakthrough Year vs Years Active\")\n",
    "plt.xlabel(\"Year of Breakthrough\")\n",
    "plt.ylabel(\"Years Active\")\n",
    "plt.show()"
   ]
  },
  {
   "cell_type": "code",
   "execution_count": null,
   "id": "68e37565-f830-4b99-afe2-e80e6ce64912",
   "metadata": {},
   "outputs": [],
   "source": []
  }
 ],
 "metadata": {
  "kernelspec": {
   "display_name": "Python 3 (ipykernel)",
   "language": "python",
   "name": "python3"
  },
  "language_info": {
   "codemirror_mode": {
    "name": "ipython",
    "version": 3
   },
   "file_extension": ".py",
   "mimetype": "text/x-python",
   "name": "python",
   "nbconvert_exporter": "python",
   "pygments_lexer": "ipython3",
   "version": "3.12.4"
  }
 },
 "nbformat": 4,
 "nbformat_minor": 5
}
